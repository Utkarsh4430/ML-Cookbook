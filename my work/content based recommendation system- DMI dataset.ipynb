{
 "cells": [
  {
   "cell_type": "code",
   "execution_count": 61,
   "metadata": {},
   "outputs": [],
   "source": [
    "import numpy as np\n",
    "import pandas as pd\n",
    "import warnings\n",
    "warnings.filterwarnings(\"ignore\")"
   ]
  },
  {
   "cell_type": "code",
   "execution_count": 62,
   "metadata": {},
   "outputs": [],
   "source": [
    "data = pd.read_csv(\"Products.csv\",sep = ';',encoding = 'unicode_escape')"
   ]
  },
  {
   "cell_type": "code",
   "execution_count": 63,
   "metadata": {},
   "outputs": [
    {
     "name": "stdout",
     "output_type": "stream",
     "text": [
      "(19266, 6)\n"
     ]
    },
    {
     "data": {
      "text/plain": [
       "(18530, 6)"
      ]
     },
     "execution_count": 63,
     "metadata": {},
     "output_type": "execute_result"
    }
   ],
   "source": [
    "print(data.shape)\n",
    "data = data.drop_duplicates(keep = False).reset_index(drop=True)\n",
    "data.shape"
   ]
  },
  {
   "cell_type": "code",
   "execution_count": 64,
   "metadata": {},
   "outputs": [
    {
     "name": "stdout",
     "output_type": "stream",
     "text": [
      "<class 'pandas.core.frame.DataFrame'>\n",
      "RangeIndex: 18530 entries, 0 to 18529\n",
      "Data columns (total 6 columns):\n",
      "Barcode                18530 non-null int64\n",
      "VendorDescription      18530 non-null object\n",
      "VendorSubdepartment    18354 non-null object\n",
      "FullProductName        18527 non-null object\n",
      "CommonName             18527 non-null object\n",
      "Location               18530 non-null object\n",
      "dtypes: int64(1), object(5)\n",
      "memory usage: 868.7+ KB\n"
     ]
    }
   ],
   "source": [
    "data.info()"
   ]
  },
  {
   "cell_type": "code",
   "execution_count": 65,
   "metadata": {},
   "outputs": [],
   "source": [
    "data = data.loc[pd.isnull(data.VendorSubdepartment) == False]"
   ]
  },
  {
   "cell_type": "code",
   "execution_count": 66,
   "metadata": {},
   "outputs": [
    {
     "name": "stdout",
     "output_type": "stream",
     "text": [
      "<class 'pandas.core.frame.DataFrame'>\n",
      "Int64Index: 18354 entries, 0 to 18529\n",
      "Data columns (total 6 columns):\n",
      "Barcode                18354 non-null int64\n",
      "VendorDescription      18354 non-null object\n",
      "VendorSubdepartment    18354 non-null object\n",
      "FullProductName        18354 non-null object\n",
      "CommonName             18354 non-null object\n",
      "Location               18354 non-null object\n",
      "dtypes: int64(1), object(5)\n",
      "memory usage: 1003.7+ KB\n"
     ]
    }
   ],
   "source": [
    "data.info()"
   ]
  },
  {
   "cell_type": "code",
   "execution_count": 67,
   "metadata": {},
   "outputs": [
    {
     "data": {
      "text/plain": [
       "(18354, 6)"
      ]
     },
     "execution_count": 67,
     "metadata": {},
     "output_type": "execute_result"
    }
   ],
   "source": [
    "data.shape"
   ]
  },
  {
   "cell_type": "code",
   "execution_count": 68,
   "metadata": {},
   "outputs": [],
   "source": [
    "x = data.values[:,2:5]\n",
    "bag_of_words = []\n",
    "for i in x:\n",
    "    a = \" \"\n",
    "    i[0] = \"_\".join(str(i[0]).split())\n",
    "    a += i[0].lower()\n",
    "    a+=\" \"\n",
    "    i[1] = \"_\".join(str(i[1]).split())\n",
    "    a+= i[1].lower()\n",
    "    \n",
    "    for j in str(i[2]).split(','):\n",
    "        a+= \" \"\n",
    "        j = \"_\".join(j.split())\n",
    "        a+=str(j).lower()\n",
    "#     a = a.strip().split()\n",
    "#     a = list(set(a))\n",
    "#     a = \" \".join(a)\n",
    "    a = \" \".join(list(set(a.strip().split())))\n",
    "    bag_of_words.append(a.strip())"
   ]
  },
  {
   "cell_type": "code",
   "execution_count": 69,
   "metadata": {},
   "outputs": [
    {
     "data": {
      "text/plain": [
       "18354"
      ]
     },
     "execution_count": 69,
     "metadata": {},
     "output_type": "execute_result"
    }
   ],
   "source": [
    "len(bag_of_words)"
   ]
  },
  {
   "cell_type": "code",
   "execution_count": 70,
   "metadata": {},
   "outputs": [],
   "source": [
    "from sklearn.metrics.pairwise import cosine_similarity\n",
    "from sklearn.feature_extraction.text import CountVectorizer"
   ]
  },
  {
   "cell_type": "code",
   "execution_count": 71,
   "metadata": {},
   "outputs": [],
   "source": [
    "from tqdm import tqdm"
   ]
  },
  {
   "cell_type": "code",
   "execution_count": 72,
   "metadata": {},
   "outputs": [
    {
     "data": {
      "text/plain": [
       "0      AMB CORN ON THE COB\n",
       "1         AMB TURNIP LOOSE\n",
       "2    AMB WATERCRESS PUNNET\n",
       "3    AMB WATERCRESS PUNNET\n",
       "4              B&R MUSHRMS\n",
       "Name: VendorDescription, dtype: object"
      ]
     },
     "execution_count": 72,
     "metadata": {},
     "output_type": "execute_result"
    }
   ],
   "source": [
    "count = CountVectorizer()\n",
    "count_matrix = count.fit_transform(bag_of_words)\n",
    "\n",
    "# creating a Series for the movie titles so they are associated to an ordered numerical\n",
    "# list I will use later to match the indexes\n",
    "indices = pd.Series(data.VendorDescription)\n",
    "data1 = data.values\n",
    "indices[:5]"
   ]
  },
  {
   "cell_type": "code",
   "execution_count": 73,
   "metadata": {},
   "outputs": [
    {
     "data": {
      "text/plain": [
       "(18354, 20619)"
      ]
     },
     "execution_count": 73,
     "metadata": {},
     "output_type": "execute_result"
    }
   ],
   "source": [
    "count_matrix.todense().shape"
   ]
  },
  {
   "cell_type": "code",
   "execution_count": 74,
   "metadata": {},
   "outputs": [
    {
     "data": {
      "text/plain": [
       "array([[1.        , 0.40824829, 0.        , ..., 0.        , 0.        ,\n",
       "        0.        ],\n",
       "       [0.40824829, 1.        , 0.        , ..., 0.        , 0.        ,\n",
       "        0.        ],\n",
       "       [0.        , 0.        , 1.        , ..., 0.        , 0.        ,\n",
       "        0.        ],\n",
       "       ...,\n",
       "       [0.        , 0.        , 0.        , ..., 1.        , 0.28867513,\n",
       "        0.33333333],\n",
       "       [0.        , 0.        , 0.        , ..., 0.28867513, 1.        ,\n",
       "        0.8660254 ],\n",
       "       [0.        , 0.        , 0.        , ..., 0.33333333, 0.8660254 ,\n",
       "        1.        ]])"
      ]
     },
     "execution_count": 74,
     "metadata": {},
     "output_type": "execute_result"
    }
   ],
   "source": [
    "# generating the cosine similarity matrix\n",
    "cosine_sim = cosine_similarity(count_matrix, count_matrix)\n",
    "cosine_sim"
   ]
  },
  {
   "cell_type": "code",
   "execution_count": 83,
   "metadata": {},
   "outputs": [],
   "source": [
    "def return_vec(x,k):\n",
    "    temp = []\n",
    "    for i in x:\n",
    "        temp.append(bag_of_words[i])\n",
    "    temp = list(set(temp))\n",
    "#     print(temp)\n",
    "    temp =  [\" \".join(temp)]\n",
    "    temp = count.transform(temp)\n",
    "    store = cosine_similarity(temp, count_matrix)\n",
    "    \n",
    "    print(\"Items bought:\")\n",
    "    for i in bought:\n",
    "        print(data1[i][1],'\\t\\t\\t',data1[i][2],'\\t\\t\\t',data1[i][3])\n",
    "    print()\n",
    "    print()\n",
    "    print()\n",
    "    recomm = np.argsort(-store[0])\n",
    "    print(\"Recommended Items:\")\n",
    "#     k = 10\n",
    "    for i in range(len(recomm)):\n",
    "        if not k:\n",
    "            break\n",
    "        if(recomm[i] in bought) or (store[0][recomm[i]]==0):\n",
    "            continue\n",
    "        print(data1[recomm[i]][1],'\\t\\t\\t',data1[recomm[i]][2],'\\t\\t\\t',data1[recomm[i]][3])\n",
    "        k-=1"
   ]
  },
  {
   "cell_type": "code",
   "execution_count": 16,
   "metadata": {},
   "outputs": [
    {
     "name": "stdout",
     "output_type": "stream",
     "text": [
      "Items bought:\n",
      "BOURSIN BLACK PEPPER \t\t\t Cheese \t\t\t Boursin Cheese Black Pepper\n",
      "ARLA SKYR NRDC CHERRY \t\t\t Yogurts & Desserts \t\t\t Arle Sour Cherry Yogurt\n",
      "ARLA SKYR STRAWBERRY \t\t\t Yogurts & Desserts \t\t\t Arla Strawberry Yogurt\n",
      "\n",
      "Recommended Items:\n",
      "WF STRAWBERRY YOGHURT \t\t\t Yogurts & Desserts \t\t\t Strawberry Yogurt\n",
      "ONKEN WG SBRRY BIOPT \t\t\t Yogurts & Desserts \t\t\t Onken Wholegrain Strawberry Bio Yogurt\n",
      "YEO VALLEY STRWBERRY \t\t\t Yogurts & Desserts \t\t\t Yeo Valley Strawberry Yogurt\n",
      "SUCKIES STRAWBERRY \t\t\t Yogurts & Desserts \t\t\t Strawberry Suckie\n",
      "DANONE OYKOS SBERRY PACK \t\t\t Yogurts & Desserts \t\t\t Oykos Strawberry Yogurt\n",
      "MLLR LGHT STRWBRY \t\t\t Yogurts & Desserts \t\t\t Muller Light Strawberry Yogurt\n",
      "MLLR LGHT GRK STRWB PACK \t\t\t Yogurts & Desserts \t\t\t Muller Light Greek Strawberry Yogurt\n",
      "MLLR CRNR FRUIT STRWBRY \t\t\t Yogurts & Desserts \t\t\t Muller Corner Strawberry Yogurt\n",
      "MLLR CRNR BLISS SBERRY 4 \t\t\t Yogurts & Desserts \t\t\t Muller Corner Strawberry Bliss\n",
      "NOMADIC STRWB OAT CLUSTER \t\t\t Yogurts & Desserts \t\t\t Strawberry Oat Clusters Low Fat Yogurt\n"
     ]
    }
   ],
   "source": [
    "bought = [596,568,569]\n",
    "return_vec(bought,10)"
   ]
  },
  {
   "cell_type": "code",
   "execution_count": 87,
   "metadata": {},
   "outputs": [
    {
     "name": "stdout",
     "output_type": "stream",
     "text": [
      "Items bought:\n",
      "BOURSIN BLACK PEPPER \t\t\t Cheese \t\t\t Boursin Cheese Black Pepper\n",
      "ARLA SKYR NRDC CHERRY \t\t\t Yogurts & Desserts \t\t\t Arle Sour Cherry Yogurt\n",
      "CF ATHENRY OAT F/J \t\t\t Health Foods \t\t\t Flapjacks\n",
      "CLF FLAX CHIA APPL&CINNAMON \t\t\t Health Foods \t\t\t Milled Flaxseed, Chia, Apple & Cinnamon\n",
      "ARLA SKYR STRAWBERRY \t\t\t Yogurts & Desserts \t\t\t Arla Strawberry Yogurt\n",
      "SHAPE FIT PREGNANCY \t\t\t NEWS & MAGS \t\t\t Shape Fit Pregnancy\n",
      "COLOUR \t\t\t Newspapers \t\t\t Magazine\n",
      "KH 2017 CALENDARS \t\t\t Seasonal Non Food \t\t\t Calendar\n",
      "ANGELINA \t\t\t Newspapers \t\t\t Magazine\n",
      "\n",
      "\n",
      "\n",
      "Recommended Items:\n",
      "STAR WARS ADVENTURES \t\t\t Newspapers \t\t\t Magazine\n",
      "THUNDERBIRDS ARE GO \t\t\t Newspapers \t\t\t Magazine\n",
      "TRUE LIFE SPECIAL \t\t\t Newspapers \t\t\t Magazine\n",
      "PUZZLELIFE \t\t\t Newspapers \t\t\t Magazine\n",
      "BUILD IT \t\t\t Newspapers \t\t\t Magazine\n",
      "PUZZLE WORLD \t\t\t Newspapers \t\t\t Magazine\n",
      "MY LITT PONY SPL MOS PW \t\t\t Newspapers \t\t\t Magazine\n",
      "SUPERFOOD \t\t\t Newspapers \t\t\t Magazine\n",
      "SUNDAY SUN \t\t\t Newspapers \t\t\t Magazine\n",
      "FROZEN \t\t\t Newspapers \t\t\t Magazine\n",
      "MR TUMBLE SOMETHING SPL \t\t\t Newspapers \t\t\t Magazine\n",
      "2016 YEAR OF BREXIT \t\t\t Newspapers \t\t\t Magazine\n",
      "110% GAMING \t\t\t Newspapers \t\t\t Magazine\n",
      "NATIONAL GEOGRAPHIC WILD \t\t\t Newspapers \t\t\t Magazine\n",
      "PUZZLELIFE PPAD CROSSWOR \t\t\t Newspapers \t\t\t Magazine\n",
      "YOOHOO \t\t\t Newspapers \t\t\t Magazine\n",
      "OCTONAUTS COMIC \t\t\t Newspapers \t\t\t Magazine\n",
      "ZOMLINGS MAGAZINE \t\t\t Newspapers \t\t\t Magazine\n",
      "SWASHBUCKLE MAGAZINE \t\t\t Newspapers \t\t\t Magazine\n",
      "PUZZLELIFE CROSSWORDS \t\t\t Newspapers \t\t\t Magazine\n"
     ]
    }
   ],
   "source": [
    "bought = [596,568,23,34,569,4577,7899,12345,4565]\n",
    "return_vec(bought,20)"
   ]
  },
  {
   "cell_type": "code",
   "execution_count": null,
   "metadata": {},
   "outputs": [],
   "source": []
  }
 ],
 "metadata": {
  "kernelspec": {
   "display_name": "Python 3",
   "language": "python",
   "name": "python3"
  },
  "language_info": {
   "codemirror_mode": {
    "name": "ipython",
    "version": 3
   },
   "file_extension": ".py",
   "mimetype": "text/x-python",
   "name": "python",
   "nbconvert_exporter": "python",
   "pygments_lexer": "ipython3",
   "version": "3.6.8"
  }
 },
 "nbformat": 4,
 "nbformat_minor": 2
}
