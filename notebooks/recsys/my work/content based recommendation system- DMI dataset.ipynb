{
 "cells": [
  {
   "cell_type": "code",
   "execution_count": 1,
   "metadata": {},
   "outputs": [],
   "source": [
    "import numpy as np\n",
    "import pandas as pd\n",
    "import math\n",
    "import warnings\n",
    "warnings.filterwarnings(\"ignore\")\n",
    "from sklearn.preprocessing import normalize"
   ]
  },
  {
   "cell_type": "code",
   "execution_count": 2,
   "metadata": {},
   "outputs": [],
   "source": [
    "data = pd.read_csv(\"Products.csv\",sep = ';',encoding = 'unicode_escape')"
   ]
  },
  {
   "cell_type": "code",
   "execution_count": 3,
   "metadata": {},
   "outputs": [
    {
     "name": "stdout",
     "output_type": "stream",
     "text": [
      "(19266, 6)\n"
     ]
    },
    {
     "data": {
      "text/plain": [
       "(18530, 6)"
      ]
     },
     "execution_count": 3,
     "metadata": {},
     "output_type": "execute_result"
    }
   ],
   "source": [
    "print(data.shape)\n",
    "data = data.drop_duplicates(keep = False).reset_index(drop=True)\n",
    "data.shape"
   ]
  },
  {
   "cell_type": "code",
   "execution_count": 4,
   "metadata": {},
   "outputs": [
    {
     "name": "stdout",
     "output_type": "stream",
     "text": [
      "<class 'pandas.core.frame.DataFrame'>\n",
      "RangeIndex: 18530 entries, 0 to 18529\n",
      "Data columns (total 6 columns):\n",
      "Barcode                18530 non-null int64\n",
      "VendorDescription      18530 non-null object\n",
      "VendorSubdepartment    18354 non-null object\n",
      "FullProductName        18527 non-null object\n",
      "CommonName             18527 non-null object\n",
      "Location               18530 non-null object\n",
      "dtypes: int64(1), object(5)\n",
      "memory usage: 868.7+ KB\n"
     ]
    }
   ],
   "source": [
    "data.info()"
   ]
  },
  {
   "cell_type": "code",
   "execution_count": 5,
   "metadata": {},
   "outputs": [],
   "source": [
    "data = data.loc[pd.isnull(data.VendorSubdepartment) == False]"
   ]
  },
  {
   "cell_type": "code",
   "execution_count": 6,
   "metadata": {},
   "outputs": [
    {
     "name": "stdout",
     "output_type": "stream",
     "text": [
      "<class 'pandas.core.frame.DataFrame'>\n",
      "Int64Index: 18354 entries, 0 to 18529\n",
      "Data columns (total 6 columns):\n",
      "Barcode                18354 non-null int64\n",
      "VendorDescription      18354 non-null object\n",
      "VendorSubdepartment    18354 non-null object\n",
      "FullProductName        18354 non-null object\n",
      "CommonName             18354 non-null object\n",
      "Location               18354 non-null object\n",
      "dtypes: int64(1), object(5)\n",
      "memory usage: 1003.7+ KB\n"
     ]
    }
   ],
   "source": [
    "data.info()"
   ]
  },
  {
   "cell_type": "code",
   "execution_count": 7,
   "metadata": {},
   "outputs": [
    {
     "data": {
      "text/plain": [
       "(18354, 6)"
      ]
     },
     "execution_count": 7,
     "metadata": {},
     "output_type": "execute_result"
    }
   ],
   "source": [
    "data.shape"
   ]
  },
  {
   "cell_type": "code",
   "execution_count": 8,
   "metadata": {},
   "outputs": [],
   "source": [
    "x = data.values[:,2:5]\n",
    "bag_of_words = []\n",
    "for i in x:\n",
    "    a = \" \"\n",
    "    i[0] = \"_\".join(str(i[0]).split())\n",
    "    a += i[0].lower()\n",
    "    a+=\" \"\n",
    "    i[1] = \"_\".join(str(i[1]).split())\n",
    "    a+= i[1].lower()\n",
    "    \n",
    "    for j in str(i[2]).split(','):\n",
    "        a+= \" \"\n",
    "        j = \"_\".join(j.split())\n",
    "        a+=str(j).lower()\n",
    "    a = \" \".join(list(set(a.strip().split())))\n",
    "    bag_of_words.append(a.strip())"
   ]
  },
  {
   "cell_type": "code",
   "execution_count": 9,
   "metadata": {},
   "outputs": [
    {
     "data": {
      "text/plain": [
       "['vegetables corn_on_the_cob',\n",
       " 'turnips vegetables turnip',\n",
       " 'salads watercress_punnet watercress',\n",
       " 'salads watercress_punnet watercress',\n",
       " 'produce b&r_mushrooms mushroom mushrooms',\n",
       " 'kiwi fruit kiwi_fruit',\n",
       " 'produce blackberry blackberries',\n",
       " 'bramley_apple cooking_apples apples bramley_apples fruit cooking_apple',\n",
       " 'leaf_and_rocket baby_leaf_&_rocket_salad prepared_produce',\n",
       " 'caeser_salad_bowl caesar_salad prepared_produce']"
      ]
     },
     "execution_count": 9,
     "metadata": {},
     "output_type": "execute_result"
    }
   ],
   "source": [
    "bag_of_words[:10]"
   ]
  },
  {
   "cell_type": "code",
   "execution_count": 10,
   "metadata": {},
   "outputs": [],
   "source": [
    "from sklearn.metrics.pairwise import cosine_similarity\n",
    "from sklearn.feature_extraction.text import CountVectorizer"
   ]
  },
  {
   "cell_type": "code",
   "execution_count": 11,
   "metadata": {},
   "outputs": [],
   "source": [
    "from tqdm import tqdm"
   ]
  },
  {
   "cell_type": "code",
   "execution_count": 12,
   "metadata": {},
   "outputs": [
    {
     "data": {
      "text/plain": [
       "0      AMB CORN ON THE COB\n",
       "1         AMB TURNIP LOOSE\n",
       "2    AMB WATERCRESS PUNNET\n",
       "3    AMB WATERCRESS PUNNET\n",
       "4              B&R MUSHRMS\n",
       "Name: VendorDescription, dtype: object"
      ]
     },
     "execution_count": 12,
     "metadata": {},
     "output_type": "execute_result"
    }
   ],
   "source": [
    "count = CountVectorizer()\n",
    "count_matrix = count.fit_transform(bag_of_words)\n",
    "\n",
    "# creating a Series for the movie titles so they are associated to an ordered numerical\n",
    "# list I will use later to match the indexes\n",
    "indices = pd.Series(data.VendorDescription)\n",
    "data1 = data.values\n",
    "indices[:5]"
   ]
  },
  {
   "cell_type": "code",
   "execution_count": 13,
   "metadata": {},
   "outputs": [
    {
     "data": {
      "text/plain": [
       "<18354x20619 sparse matrix of type '<class 'numpy.float64'>'\n",
       "\twith 76836 stored elements in Compressed Sparse Row format>"
      ]
     },
     "execution_count": 13,
     "metadata": {},
     "output_type": "execute_result"
    }
   ],
   "source": [
    "count_matrix = normalize(count_matrix, norm='l2', axis=1)\n",
    "count_matrix"
   ]
  },
  {
   "cell_type": "code",
   "execution_count": 14,
   "metadata": {},
   "outputs": [
    {
     "data": {
      "text/plain": [
       "array([[1.        , 0.40824829, 0.        , ..., 0.        , 0.        ,\n",
       "        0.        ],\n",
       "       [0.40824829, 1.        , 0.        , ..., 0.        , 0.        ,\n",
       "        0.        ],\n",
       "       [0.        , 0.        , 1.        , ..., 0.        , 0.        ,\n",
       "        0.        ],\n",
       "       ...,\n",
       "       [0.        , 0.        , 0.        , ..., 1.        , 0.28867513,\n",
       "        0.33333333],\n",
       "       [0.        , 0.        , 0.        , ..., 0.28867513, 1.        ,\n",
       "        0.8660254 ],\n",
       "       [0.        , 0.        , 0.        , ..., 0.33333333, 0.8660254 ,\n",
       "        1.        ]])"
      ]
     },
     "execution_count": 14,
     "metadata": {},
     "output_type": "execute_result"
    }
   ],
   "source": [
    "# generating the cosine similarity matrix\n",
    "cosine_sim = cosine_similarity(count_matrix, count_matrix)\n",
    "cosine_sim"
   ]
  },
  {
   "cell_type": "code",
   "execution_count": 15,
   "metadata": {},
   "outputs": [],
   "source": [
    "def return_vec(x,k):\n",
    "    temp = []\n",
    "    for i in x:\n",
    "        temp+=(bag_of_words[i].strip().split())\n",
    "#     temp = list(set(temp))\n",
    "#     temp =  [\" \".join(temp)]\n",
    "    temp = count.transform([\" \".join(list(set(temp)))])\n",
    "    store = cosine_similarity(temp, count_matrix)\n",
    "    \n",
    "    print(\"Items bought:\")\n",
    "    for i in x:\n",
    "        print(data1[i][1],'\\t\\t\\t',data1[i][2],'\\t\\t\\t',data1[i][3])\n",
    "    \n",
    "    print('\\n\\n\\n')\n",
    "    \n",
    "    recomm = np.argsort(-store[0])\n",
    "    \n",
    "    print(\"Recommended Items:\")\n",
    "    for i in range(len(recomm)):\n",
    "        if not k:\n",
    "            break\n",
    "        if(recomm[i] in x) or (store[0][recomm[i]]==0):\n",
    "            continue\n",
    "        print(data1[recomm[i]][1],'\\t\\t\\t',data1[recomm[i]][2],'\\t\\t\\t',data1[recomm[i]][3])\n",
    "        k-=1"
   ]
  },
  {
   "cell_type": "code",
   "execution_count": 22,
   "metadata": {},
   "outputs": [
    {
     "name": "stdout",
     "output_type": "stream",
     "text": [
      "Items bought:\n",
      "MCV PENGUIN 9PACK \t\t\t Biscuits \t\t\t Penguins\n",
      "MARS REFUEL SPORTS CAP \t\t\t Ambient Milk & Cream \t\t\t Milk Drink\n",
      "LP WHITE SMALL ROUND \t\t\t Bread & Cakes \t\t\t Rolls\n",
      "BUD LIMES PREPACK \t\t\t Fruit \t\t\t Lime\n",
      "\n",
      "\n",
      "\n",
      "\n",
      "Recommended Items:\n",
      "FF LOOSE LIMES CL1 \t\t\t Fruit \t\t\t Lime\n",
      "LOOSE LIMES \t\t\t Fruit \t\t\t Limes\n",
      "CNTRY CHCE CRSTY ROLL \t\t\t Bread & Cakes \t\t\t Rolls\n",
      "CNTRY CHCE TIGER ROLL \t\t\t Bread & Cakes \t\t\t Rolls\n",
      "KAISER ROLLS PACK \t\t\t Bread & Cakes \t\t\t Rolls\n",
      "KAISER ROLLS PACK \t\t\t Bread & Cakes \t\t\t Rolls\n",
      "CNTRY CHCE WHT FLRD BAPS \t\t\t Bread & Cakes \t\t\t Rolls\n",
      "KM WHITE \t\t\t Bread & Cakes \t\t\t Rolls\n",
      "JAFA SPK BAR \t\t\t Bread & Cakes \t\t\t Jaffa Cakes\n",
      "LOOSE LIMES \t\t\t Fruit \t\t\t Lime\n"
     ]
    }
   ],
   "source": [
    "bought = [8898,2345,13000,12]\n",
    "return_vec(bought,10)"
   ]
  },
  {
   "cell_type": "code",
   "execution_count": 21,
   "metadata": {},
   "outputs": [
    {
     "name": "stdout",
     "output_type": "stream",
     "text": [
      "Items bought:\n",
      "BOURSIN BLACK PEPPER \t\t\t Cheese \t\t\t Boursin Cheese Black Pepper\n",
      "CF ATHENRY OAT F/J \t\t\t Health Foods \t\t\t Flapjacks\n",
      "CLF FLAX CHIA APPL&CINNAMON \t\t\t Health Foods \t\t\t Milled Flaxseed, Chia, Apple & Cinnamon\n",
      "ARLA SKYR STRAWBERRY \t\t\t Yogurts & Desserts \t\t\t Arla Strawberry Yogurt\n",
      "SHAPE FIT PREGNANCY \t\t\t NEWS & MAGS \t\t\t Shape Fit Pregnancy\n",
      "COLOUR \t\t\t Newspapers \t\t\t Magazine\n",
      "KH 2017 CALENDARS \t\t\t Seasonal Non Food \t\t\t Calendar\n",
      "\n",
      "\n",
      "\n",
      "\n",
      "Recommended Items:\n",
      "Q \t\t\t NEWS & MAGS \t\t\t Q\n",
      "RED \t\t\t NEWS & MAGS \t\t\t Magazine\n",
      "CITIZEN GLOS MAIN ( \t\t\t NEWS & MAGS \t\t\t Magazine\n",
      "W \t\t\t NEWS & MAGS \t\t\t W\n",
      "B \t\t\t NEWS & MAGS \t\t\t B\n",
      "CITIZEN GLOS MAIN ( \t\t\t NEWS & MAGS \t\t\t Magazine\n",
      "YEO VALLEY STRWBERRY \t\t\t Yogurts & Desserts \t\t\t Yeo Valley Strawberry Yogurt\n",
      "CLF MILLED ORG F/SEED&PUMPKIN \t\t\t Health Foods \t\t\t Organic Flaxseed Sunflower & Pumpkin\n",
      "WF STRAWBERRY YOGHURT \t\t\t Yogurts & Desserts \t\t\t Strawberry Yogurt\n",
      "MLLR CRNR FRUIT STRWBRY \t\t\t Yogurts & Desserts \t\t\t Muller Corner Strawberry Yogurt\n"
     ]
    }
   ],
   "source": [
    "bought = [596,23,34,569,4577,7899,12345]\n",
    "return_vec(bought,10)"
   ]
  },
  {
   "cell_type": "code",
   "execution_count": null,
   "metadata": {},
   "outputs": [],
   "source": []
  }
 ],
 "metadata": {
  "kernelspec": {
   "display_name": "Python 3",
   "language": "python",
   "name": "python3"
  },
  "language_info": {
   "codemirror_mode": {
    "name": "ipython",
    "version": 3
   },
   "file_extension": ".py",
   "mimetype": "text/x-python",
   "name": "python",
   "nbconvert_exporter": "python",
   "pygments_lexer": "ipython3",
   "version": "3.6.8"
  }
 },
 "nbformat": 4,
 "nbformat_minor": 2
}
